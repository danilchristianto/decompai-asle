{
 "cells": [
  {
   "cell_type": "code",
   "execution_count": null,
   "metadata": {},
   "outputs": [],
   "source": [
    "import sys\n",
    "import os\n",
    "import subprocess\n",
    "import utils\n",
    "import openai\n",
    "from dotenv import load_dotenv\n",
    "from pydantic import BaseModel\n",
    "import json"
   ]
  },
  {
   "cell_type": "code",
   "execution_count": null,
   "metadata": {},
   "outputs": [],
   "source": [
    "load_dotenv()\n",
    "\n",
    "OPENAI_CLIENT = openai.Client()"
   ]
  },
  {
   "cell_type": "code",
   "execution_count": null,
   "metadata": {},
   "outputs": [],
   "source": [
    "class DecompiledCode(BaseModel):\n",
    "    code: str\n",
    "    explanation: str\n",
    "\n",
    "def decompile_with_gpt(disassembled_code):\n",
    "    messages = [\n",
    "        {\"role\": \"system\", \"content\": \"You are an expert in assembly code, and you are responsible for decompling into C code the assembly code provided.\"},\n",
    "        {\"role\": \"user\", \"content\": \"You are given the following assembly code:\"},\n",
    "        {\"role\": \"user\", \"content\": disassembled_code},\n",
    "        {\"role\": \"user\", \"content\": \"Please provide the equivalent C code.\"},\n",
    "    ]\n",
    "\n",
    "    response = OPENAI_CLIENT.beta.chat.completions.parse(\n",
    "        model='gpt-4o-mini',\n",
    "        messages=messages,\n",
    "        response_format=DecompiledCode,\n",
    "        n=1,\n",
    "        temperature=0.0,\n",
    "    )\n",
    "\n",
    "    response = json.loads(response.choices[0].message.content)\n",
    "\n",
    "    decompiled_path = os.path.join(utils.WORKSPACE_DIR, \"decompiled_code.c\")\n",
    "    with open(decompiled_path, \"w\") as f:\n",
    "        f.write(response[\"code\"])\n",
    "\n",
    "    return response"
   ]
  },
  {
   "cell_type": "code",
   "execution_count": null,
   "metadata": {},
   "outputs": [],
   "source": [
    "def process_file(input_path, function_name):\n",
    "    # Copy the C code or binary to the workspace for reference\n",
    "    try:\n",
    "        disassembled_code = utils.disassemble(input_path, function_name)\n",
    "        \n",
    "        # Decompile with LLM4Decompile\n",
    "        print(\"\\nDecompiling...\")\n",
    "        response = decompile_with_gpt(disassembled_code)\n",
    "        decompiled_code = response[\"code\"]\n",
    "        \n",
    "        print(\"\\nDecompiled Code:\")\n",
    "        print(decompiled_code)\n",
    "    \n",
    "    except subprocess.CalledProcessError as e:\n",
    "        print(f\"Error during processing: {e}\")"
   ]
  },
  {
   "cell_type": "code",
   "execution_count": null,
   "metadata": {},
   "outputs": [],
   "source": [
    "c_code_path = \"c_code/fibonacci.c\"\n",
    "function_name = \"func0\"\n",
    "process_file(c_code_path, function_name)"
   ]
  },
  {
   "cell_type": "code",
   "execution_count": null,
   "metadata": {},
   "outputs": [],
   "source": []
  }
 ],
 "metadata": {
  "kernelspec": {
   "display_name": ".venv",
   "language": "python",
   "name": "python3"
  },
  "language_info": {
   "codemirror_mode": {
    "name": "ipython",
    "version": 3
   },
   "file_extension": ".py",
   "mimetype": "text/x-python",
   "name": "python",
   "nbconvert_exporter": "python",
   "pygments_lexer": "ipython3",
   "version": "3.9.6"
  }
 },
 "nbformat": 4,
 "nbformat_minor": 2
}
